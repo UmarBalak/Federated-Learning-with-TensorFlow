{
  "nbformat": 4,
  "nbformat_minor": 0,
  "metadata": {
    "colab": {
      "provenance": [],
      "authorship_tag": "ABX9TyNeSGChXj6vK5rdNYIPsrME",
      "include_colab_link": true
    },
    "kernelspec": {
      "name": "python3",
      "display_name": "Python 3"
    },
    "language_info": {
      "name": "python"
    }
  },
  "cells": [
    {
      "cell_type": "markdown",
      "metadata": {
        "id": "view-in-github",
        "colab_type": "text"
      },
      "source": [
        "<a href=\"https://colab.research.google.com/github/UmarBalak/Federated-Learning-with-TensorFlow/blob/main/MNIST_Model.ipynb\" target=\"_parent\"><img src=\"https://colab.research.google.com/assets/colab-badge.svg\" alt=\"Open In Colab\"/></a>"
      ]
    },
    {
      "cell_type": "code",
      "execution_count": null,
      "metadata": {
        "id": "KZmVDDaq4YgO"
      },
      "outputs": [],
      "source": [
        "import numpy as np\n",
        "import tensorflow as tf\n",
        "from tensorflow.keras import layers, models\n",
        "from tensorflow.keras.datasets import mnist\n",
        "from tensorflow.keras.utils import to_categorical\n",
        "from sklearn.metrics import f1_score\n",
        "\n",
        "# Load MNIST dataset\n",
        "(train_images, train_labels), (test_images, test_labels) = mnist.load_data()\n",
        "\n",
        "# Preprocess data\n",
        "train_images = train_images.reshape((60000, 28, 28, 1)).astype('float32') / 255\n",
        "test_images = test_images.reshape((10000, 28, 28, 1)).astype('float32') / 255\n",
        "\n",
        "train_labels = to_categorical(train_labels)\n",
        "test_labels = to_categorical(test_labels)\n",
        "\n",
        "# Define CNN architecture\n",
        "model = models.Sequential()\n",
        "model.add(layers.Conv2D(32, (3, 3), activation='relu', input_shape=(28, 28, 1)))\n",
        "model.add(layers.MaxPooling2D((2, 2)))\n",
        "model.add(layers.Conv2D(64, (3, 3), activation='relu'))\n",
        "model.add(layers.Flatten())\n",
        "model.add(layers.Dense(32, activation='relu'))\n",
        "model.add(layers.Dense(10, activation='softmax'))\n",
        "\n",
        "# Compile model\n",
        "model.compile(optimizer='adam',\n",
        "              loss='categorical_crossentropy',\n",
        "              metrics=['accuracy'])\n",
        "\n",
        "# Train the model\n",
        "model.fit(train_images, train_labels, epochs=5, batch_size=64, validation_split=0.2)\n",
        "\n",
        "# Predict labels for test set\n",
        "predicted_labels = model.predict(test_images)\n",
        "predicted_labels = np.argmax(predicted_labels, axis=1)\n",
        "true_labels = np.argmax(test_labels, axis=1)\n",
        "\n",
        "# Calculate F1 score\n",
        "f1 = f1_score(true_labels, predicted_labels, average='macro')\n",
        "\n",
        "print('F1 score:', f1)\n"
      ]
    },
    {
      "cell_type": "code",
      "source": [
        "import cv2\n",
        "def predict_from_image(image_path):\n",
        "    # Load and preprocess user's image\n",
        "    user_image = cv2.imread(image_path, cv2.IMREAD_GRAYSCALE)\n",
        "    user_image = cv2.resize(user_image, (28, 28))\n",
        "    user_image = user_image.reshape((1, 28, 28, 1)).astype('float32') / 255\n",
        "\n",
        "    # Predict label for user's image\n",
        "    predicted_label = model.predict(user_image)\n",
        "    predicted_label = np.argmax(predicted_label)\n",
        "\n",
        "    return predicted_label\n",
        "\n",
        "# Example usage\n",
        "image_path = '3.png'  # Change this to the path of your image\n",
        "predicted_label = predict_from_image(image_path)\n",
        "print('Predicted label:', predicted_label)"
      ],
      "metadata": {
        "id": "Cufnv6VH4dsP"
      },
      "execution_count": null,
      "outputs": []
    }
  ]
}